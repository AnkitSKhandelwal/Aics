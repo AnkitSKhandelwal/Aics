{
  "nbformat": 4,
  "nbformat_minor": 0,
  "metadata": {
    "colab": {
      "provenance": [],
      "authorship_tag": "ABX9TyMylT/aPf0hIFCBmJ9M2oPV",
      "include_colab_link": true
    },
    "kernelspec": {
      "name": "python3",
      "display_name": "Python 3"
    },
    "language_info": {
      "name": "python"
    }
  },
  "cells": [
    {
      "cell_type": "markdown",
      "metadata": {
        "id": "view-in-github",
        "colab_type": "text"
      },
      "source": [
        "<a href=\"https://colab.research.google.com/github/AnkitSKhandelwal/Aics/blob/main/Aicslab1.ipynb\" target=\"_parent\"><img src=\"https://colab.research.google.com/assets/colab-badge.svg\" alt=\"Open In Colab\"/></a>"
      ]
    },
    {
      "cell_type": "code",
      "execution_count": 1,
      "metadata": {
        "colab": {
          "base_uri": "https://localhost:8080/"
        },
        "id": "n0FlEn8M7nur",
        "outputId": "2ad369cd-8631-49a5-f7ff-c4cd83c400ef"
      },
      "outputs": [
        {
          "output_type": "stream",
          "name": "stdout",
          "text": [
            "mangoo\n",
            "dict_keys(['1', '2'])\n",
            "dict_values(['mangoo', 'apple'])\n",
            "dict_items([('1', 'mangoo'), ('2', 'apple')])\n",
            "{'1': 'mangoo', '2': 'apple', '3': 'banana'}\n"
          ]
        }
      ],
      "source": [
        "from turtle import update\n",
        "mydict = {'1':'mangoo',\n",
        "'2':'apple'}\n",
        "print(mydict['1'])\n",
        "print(mydict.keys())\n",
        "print(mydict.values())\n",
        "print(mydict.items())\n",
        "updatedict = {'3':'banana'}\n",
        "mydict.update(updatedict)\n",
        "print(mydict)"
      ]
    },
    {
      "cell_type": "code",
      "source": [
        "my_list=[1,2,3,4,5]\n",
        "print(my_list[-1])\n",
        "print(my_list[-5])\n",
        "print(my_list[5:])"
      ],
      "metadata": {
        "colab": {
          "base_uri": "https://localhost:8080/"
        },
        "id": "sLBpvQ5v7phv",
        "outputId": "58b2a795-caba-4c43-f8a6-9789c2859880"
      },
      "execution_count": 3,
      "outputs": [
        {
          "output_type": "stream",
          "name": "stdout",
          "text": [
            "5\n",
            "1\n",
            "[]\n"
          ]
        }
      ]
    },
    {
      "cell_type": "code",
      "source": [
        "my_tuple = ('a','n','k','i','t')\n",
        "print(my_tuple[-1])\n",
        "print(my_tuple[-4])"
      ],
      "metadata": {
        "colab": {
          "base_uri": "https://localhost:8080/"
        },
        "id": "5Sos0NMw8mNB",
        "outputId": "cb9efb1d-5a4b-4ad4-bc6f-8bd1bb6cf9bb"
      },
      "execution_count": 7,
      "outputs": [
        {
          "output_type": "stream",
          "name": "stdout",
          "text": [
            "t\n",
            "n\n"
          ]
        }
      ]
    },
    {
      "cell_type": "code",
      "source": [],
      "metadata": {
        "id": "nEr85F_e9pMU"
      },
      "execution_count": null,
      "outputs": []
    }
  ]
}